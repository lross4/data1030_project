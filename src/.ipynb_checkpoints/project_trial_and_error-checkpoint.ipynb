{
 "cells": [
  {
   "cell_type": "code",
   "execution_count": 1,
   "id": "1cba4986",
   "metadata": {},
   "outputs": [
    {
     "ename": "ImportError",
     "evalue": "cannot import name 'arff' from 'scipy.io.arff' (/Users/lindseyross/opt/anaconda3/envs/data1030/lib/python3.10/site-packages/scipy/io/arff/__init__.py)",
     "output_type": "error",
     "traceback": [
      "\u001b[0;31m---------------------------------------------------------------------------\u001b[0m",
      "\u001b[0;31mImportError\u001b[0m                               Traceback (most recent call last)",
      "Cell \u001b[0;32mIn [1], line 3\u001b[0m\n\u001b[1;32m      1\u001b[0m \u001b[38;5;66;03m# this is my first attempt working with project data\u001b[39;00m\n\u001b[0;32m----> 3\u001b[0m \u001b[38;5;28;01mfrom\u001b[39;00m \u001b[38;5;21;01mscipy\u001b[39;00m\u001b[38;5;21;01m.\u001b[39;00m\u001b[38;5;21;01mio\u001b[39;00m\u001b[38;5;21;01m.\u001b[39;00m\u001b[38;5;21;01marff\u001b[39;00m \u001b[38;5;28;01mimport\u001b[39;00m arff\n\u001b[1;32m      4\u001b[0m \u001b[38;5;28;01mimport\u001b[39;00m \u001b[38;5;21;01mpandas\u001b[39;00m \u001b[38;5;28;01mas\u001b[39;00m \u001b[38;5;21;01mpd\u001b[39;00m\n\u001b[1;32m      6\u001b[0m data \u001b[38;5;241m=\u001b[39m arff\u001b[38;5;241m.\u001b[39mloadarff(\u001b[38;5;124m'\u001b[39m\u001b[38;5;124mdata/bone-marrow.arff\u001b[39m\u001b[38;5;124m'\u001b[39m)\n",
      "\u001b[0;31mImportError\u001b[0m: cannot import name 'arff' from 'scipy.io.arff' (/Users/lindseyross/opt/anaconda3/envs/data1030/lib/python3.10/site-packages/scipy/io/arff/__init__.py)"
     ]
    }
   ],
   "source": [
    "# this is my first attempt working with project data\n",
    "\n",
    "from scipy.io.arff import arff\n",
    "import pandas as pd\n",
    "\n",
    "data = arff.loadarff('data/bone-marrow.arff')\n",
    "df = pd.DataFrame(data[0])\n"
   ]
  },
  {
   "cell_type": "code",
   "execution_count": 4,
   "id": "ffb7ad8a",
   "metadata": {},
   "outputs": [
    {
     "name": "stdout",
     "output_type": "stream",
     "text": [
      "     Age Number of sexual partners First sexual intercourse  \\\n",
      "0     18                       4.0                     15.0   \n",
      "1     15                       1.0                     14.0   \n",
      "2     34                       1.0                        ?   \n",
      "3     52                       5.0                     16.0   \n",
      "4     46                       3.0                     21.0   \n",
      "..   ...                       ...                      ...   \n",
      "853   34                       3.0                     18.0   \n",
      "854   32                       2.0                     19.0   \n",
      "855   25                       2.0                     17.0   \n",
      "856   33                       2.0                     24.0   \n",
      "857   29                       2.0                     20.0   \n",
      "\n",
      "    Num of pregnancies Smokes Smokes (years) Smokes (packs/year)  \\\n",
      "0                  1.0    0.0            0.0                 0.0   \n",
      "1                  1.0    0.0            0.0                 0.0   \n",
      "2                  1.0    0.0            0.0                 0.0   \n",
      "3                  4.0    1.0           37.0                37.0   \n",
      "4                  4.0    0.0            0.0                 0.0   \n",
      "..                 ...    ...            ...                 ...   \n",
      "853                0.0    0.0            0.0                 0.0   \n",
      "854                1.0    0.0            0.0                 0.0   \n",
      "855                0.0    0.0            0.0                 0.0   \n",
      "856                2.0    0.0            0.0                 0.0   \n",
      "857                1.0    0.0            0.0                 0.0   \n",
      "\n",
      "    Hormonal Contraceptives Hormonal Contraceptives (years)  IUD  ...  \\\n",
      "0                       0.0                             0.0  0.0  ...   \n",
      "1                       0.0                             0.0  0.0  ...   \n",
      "2                       0.0                             0.0  0.0  ...   \n",
      "3                       1.0                             3.0  0.0  ...   \n",
      "4                       1.0                            15.0  0.0  ...   \n",
      "..                      ...                             ...  ...  ...   \n",
      "853                     0.0                             0.0  0.0  ...   \n",
      "854                     1.0                             8.0  0.0  ...   \n",
      "855                     1.0                            0.08  0.0  ...   \n",
      "856                     1.0                            0.08  0.0  ...   \n",
      "857                     1.0                             0.5  0.0  ...   \n",
      "\n",
      "    STDs: Time since first diagnosis STDs: Time since last diagnosis  \\\n",
      "0                                  ?                               ?   \n",
      "1                                  ?                               ?   \n",
      "2                                  ?                               ?   \n",
      "3                                  ?                               ?   \n",
      "4                                  ?                               ?   \n",
      "..                               ...                             ...   \n",
      "853                                ?                               ?   \n",
      "854                                ?                               ?   \n",
      "855                                ?                               ?   \n",
      "856                                ?                               ?   \n",
      "857                                ?                               ?   \n",
      "\n",
      "    Dx:Cancer Dx:CIN Dx:HPV Dx Hinselmann Schiller Citology Biopsy  \n",
      "0           0      0      0  0          0        0        0      0  \n",
      "1           0      0      0  0          0        0        0      0  \n",
      "2           0      0      0  0          0        0        0      0  \n",
      "3           1      0      1  0          0        0        0      0  \n",
      "4           0      0      0  0          0        0        0      0  \n",
      "..        ...    ...    ... ..        ...      ...      ...    ...  \n",
      "853         0      0      0  0          0        0        0      0  \n",
      "854         0      0      0  0          0        0        0      0  \n",
      "855         0      0      0  0          0        0        1      0  \n",
      "856         0      0      0  0          0        0        0      0  \n",
      "857         0      0      0  0          0        0        0      0  \n",
      "\n",
      "[858 rows x 36 columns]\n"
     ]
    }
   ],
   "source": [
    "import pandas as pd\n",
    "\n",
    "\n",
    "data = pd.read_csv(\"../data/risk_factors_cervical_cancer.csv\")\n",
    "print(data)"
   ]
  },
  {
   "cell_type": "code",
   "execution_count": null,
   "id": "4389f5a4",
   "metadata": {},
   "outputs": [],
   "source": []
  }
 ],
 "metadata": {
  "kernelspec": {
   "display_name": "Python 3 (ipykernel)",
   "language": "python",
   "name": "python3"
  },
  "language_info": {
   "codemirror_mode": {
    "name": "ipython",
    "version": 3
   },
   "file_extension": ".py",
   "mimetype": "text/x-python",
   "name": "python",
   "nbconvert_exporter": "python",
   "pygments_lexer": "ipython3",
   "version": "3.10.5"
  }
 },
 "nbformat": 4,
 "nbformat_minor": 5
}
